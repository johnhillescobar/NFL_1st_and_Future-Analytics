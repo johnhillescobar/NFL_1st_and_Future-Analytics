{
 "cells": [
  {
   "cell_type": "code",
   "execution_count": 1,
   "metadata": {},
   "outputs": [],
   "source": [
    "import pandas as pd\n",
    "import numpy as np\n",
    "import seaborn as sns\n",
    "import matplotlib.pyplot as plt\n",
    "\n",
    "%matplotlib inline"
   ]
  },
  {
   "cell_type": "markdown",
   "metadata": {},
   "source": [
    "## Play List"
   ]
  },
  {
   "cell_type": "code",
   "execution_count": 3,
   "metadata": {},
   "outputs": [
    {
     "data": {
      "text/html": [
       "<div>\n",
       "<style scoped>\n",
       "    .dataframe tbody tr th:only-of-type {\n",
       "        vertical-align: middle;\n",
       "    }\n",
       "\n",
       "    .dataframe tbody tr th {\n",
       "        vertical-align: top;\n",
       "    }\n",
       "\n",
       "    .dataframe thead th {\n",
       "        text-align: right;\n",
       "    }\n",
       "</style>\n",
       "<table border=\"1\" class=\"dataframe\">\n",
       "  <thead>\n",
       "    <tr style=\"text-align: right;\">\n",
       "      <th></th>\n",
       "      <th>PlayerKey</th>\n",
       "      <th>GameID</th>\n",
       "      <th>PlayKey</th>\n",
       "      <th>RosterPosition</th>\n",
       "      <th>PlayerDay</th>\n",
       "      <th>PlayerGame</th>\n",
       "      <th>StadiumType</th>\n",
       "      <th>FieldType</th>\n",
       "      <th>Temperature</th>\n",
       "      <th>Weather</th>\n",
       "      <th>PlayType</th>\n",
       "      <th>PlayerGamePlay</th>\n",
       "      <th>Position</th>\n",
       "      <th>PositionGroup</th>\n",
       "    </tr>\n",
       "  </thead>\n",
       "  <tbody>\n",
       "    <tr>\n",
       "      <td>0</td>\n",
       "      <td>26624</td>\n",
       "      <td>26624-1</td>\n",
       "      <td>26624-1-1</td>\n",
       "      <td>Quarterback</td>\n",
       "      <td>1</td>\n",
       "      <td>1</td>\n",
       "      <td>Outdoor</td>\n",
       "      <td>Synthetic</td>\n",
       "      <td>63</td>\n",
       "      <td>Clear and warm</td>\n",
       "      <td>Pass</td>\n",
       "      <td>1</td>\n",
       "      <td>QB</td>\n",
       "      <td>QB</td>\n",
       "    </tr>\n",
       "    <tr>\n",
       "      <td>1</td>\n",
       "      <td>26624</td>\n",
       "      <td>26624-1</td>\n",
       "      <td>26624-1-2</td>\n",
       "      <td>Quarterback</td>\n",
       "      <td>1</td>\n",
       "      <td>1</td>\n",
       "      <td>Outdoor</td>\n",
       "      <td>Synthetic</td>\n",
       "      <td>63</td>\n",
       "      <td>Clear and warm</td>\n",
       "      <td>Pass</td>\n",
       "      <td>2</td>\n",
       "      <td>QB</td>\n",
       "      <td>QB</td>\n",
       "    </tr>\n",
       "    <tr>\n",
       "      <td>2</td>\n",
       "      <td>26624</td>\n",
       "      <td>26624-1</td>\n",
       "      <td>26624-1-3</td>\n",
       "      <td>Quarterback</td>\n",
       "      <td>1</td>\n",
       "      <td>1</td>\n",
       "      <td>Outdoor</td>\n",
       "      <td>Synthetic</td>\n",
       "      <td>63</td>\n",
       "      <td>Clear and warm</td>\n",
       "      <td>Rush</td>\n",
       "      <td>3</td>\n",
       "      <td>QB</td>\n",
       "      <td>QB</td>\n",
       "    </tr>\n",
       "    <tr>\n",
       "      <td>3</td>\n",
       "      <td>26624</td>\n",
       "      <td>26624-1</td>\n",
       "      <td>26624-1-4</td>\n",
       "      <td>Quarterback</td>\n",
       "      <td>1</td>\n",
       "      <td>1</td>\n",
       "      <td>Outdoor</td>\n",
       "      <td>Synthetic</td>\n",
       "      <td>63</td>\n",
       "      <td>Clear and warm</td>\n",
       "      <td>Rush</td>\n",
       "      <td>4</td>\n",
       "      <td>QB</td>\n",
       "      <td>QB</td>\n",
       "    </tr>\n",
       "    <tr>\n",
       "      <td>4</td>\n",
       "      <td>26624</td>\n",
       "      <td>26624-1</td>\n",
       "      <td>26624-1-5</td>\n",
       "      <td>Quarterback</td>\n",
       "      <td>1</td>\n",
       "      <td>1</td>\n",
       "      <td>Outdoor</td>\n",
       "      <td>Synthetic</td>\n",
       "      <td>63</td>\n",
       "      <td>Clear and warm</td>\n",
       "      <td>Pass</td>\n",
       "      <td>5</td>\n",
       "      <td>QB</td>\n",
       "      <td>QB</td>\n",
       "    </tr>\n",
       "  </tbody>\n",
       "</table>\n",
       "</div>"
      ],
      "text/plain": [
       "   PlayerKey   GameID    PlayKey RosterPosition  PlayerDay  PlayerGame  \\\n",
       "0      26624  26624-1  26624-1-1    Quarterback          1           1   \n",
       "1      26624  26624-1  26624-1-2    Quarterback          1           1   \n",
       "2      26624  26624-1  26624-1-3    Quarterback          1           1   \n",
       "3      26624  26624-1  26624-1-4    Quarterback          1           1   \n",
       "4      26624  26624-1  26624-1-5    Quarterback          1           1   \n",
       "\n",
       "  StadiumType  FieldType  Temperature         Weather PlayType  \\\n",
       "0     Outdoor  Synthetic           63  Clear and warm     Pass   \n",
       "1     Outdoor  Synthetic           63  Clear and warm     Pass   \n",
       "2     Outdoor  Synthetic           63  Clear and warm     Rush   \n",
       "3     Outdoor  Synthetic           63  Clear and warm     Rush   \n",
       "4     Outdoor  Synthetic           63  Clear and warm     Pass   \n",
       "\n",
       "   PlayerGamePlay Position PositionGroup  \n",
       "0               1       QB            QB  \n",
       "1               2       QB            QB  \n",
       "2               3       QB            QB  \n",
       "3               4       QB            QB  \n",
       "4               5       QB            QB  "
      ]
     },
     "execution_count": 3,
     "metadata": {},
     "output_type": "execute_result"
    }
   ],
   "source": [
    "PlayList = pd.read_csv('data/PlayList.csv')\n",
    "PlayList.head()"
   ]
  },
  {
   "cell_type": "code",
   "execution_count": 4,
   "metadata": {},
   "outputs": [
    {
     "data": {
      "text/plain": [
       "(267005, 14)"
      ]
     },
     "execution_count": 4,
     "metadata": {},
     "output_type": "execute_result"
    }
   ],
   "source": [
    "PlayList.shape"
   ]
  },
  {
   "cell_type": "code",
   "execution_count": 5,
   "metadata": {},
   "outputs": [
    {
     "data": {
      "text/plain": [
       "Index(['PlayerKey', 'GameID', 'PlayKey', 'RosterPosition', 'PlayerDay',\n",
       "       'PlayerGame', 'StadiumType', 'FieldType', 'Temperature', 'Weather',\n",
       "       'PlayType', 'PlayerGamePlay', 'Position', 'PositionGroup'],\n",
       "      dtype='object')"
      ]
     },
     "execution_count": 5,
     "metadata": {},
     "output_type": "execute_result"
    }
   ],
   "source": [
    "PlayList.columns"
   ]
  },
  {
   "cell_type": "code",
   "execution_count": 6,
   "metadata": {},
   "outputs": [
    {
     "name": "stdout",
     "output_type": "stream",
     "text": [
      "<class 'pandas.core.frame.DataFrame'>\n",
      "RangeIndex: 267005 entries, 0 to 267004\n",
      "Data columns (total 14 columns):\n",
      "PlayerKey         267005 non-null int64\n",
      "GameID            267005 non-null object\n",
      "PlayKey           267005 non-null object\n",
      "RosterPosition    267005 non-null object\n",
      "PlayerDay         267005 non-null int64\n",
      "PlayerGame        267005 non-null int64\n",
      "StadiumType       250095 non-null object\n",
      "FieldType         267005 non-null object\n",
      "Temperature       267005 non-null int64\n",
      "Weather           248314 non-null object\n",
      "PlayType          266638 non-null object\n",
      "PlayerGamePlay    267005 non-null int64\n",
      "Position          267005 non-null object\n",
      "PositionGroup     267005 non-null object\n",
      "dtypes: int64(5), object(9)\n",
      "memory usage: 19.4+ MB\n"
     ]
    }
   ],
   "source": [
    "PlayList.info()"
   ]
  },
  {
   "cell_type": "code",
   "execution_count": 7,
   "metadata": {},
   "outputs": [
    {
     "data": {
      "text/plain": [
       "PlayerKey          int64\n",
       "GameID            object\n",
       "PlayKey           object\n",
       "RosterPosition    object\n",
       "PlayerDay          int64\n",
       "PlayerGame         int64\n",
       "StadiumType       object\n",
       "FieldType         object\n",
       "Temperature        int64\n",
       "Weather           object\n",
       "PlayType          object\n",
       "PlayerGamePlay     int64\n",
       "Position          object\n",
       "PositionGroup     object\n",
       "dtype: object"
      ]
     },
     "execution_count": 7,
     "metadata": {},
     "output_type": "execute_result"
    }
   ],
   "source": [
    "PlayList.dtypes"
   ]
  },
  {
   "cell_type": "code",
   "execution_count": 8,
   "metadata": {},
   "outputs": [
    {
     "data": {
      "text/plain": [
       "Linebacker           50129\n",
       "Offensive Lineman    47413\n",
       "Wide Receiver        43391\n",
       "Safety               39387\n",
       "Defensive Lineman    30588\n",
       "Cornerback           28987\n",
       "Running Back         11664\n",
       "Tight End             7752\n",
       "Quarterback           6986\n",
       "Kicker                 708\n",
       "Name: RosterPosition, dtype: int64"
      ]
     },
     "execution_count": 8,
     "metadata": {},
     "output_type": "execute_result"
    }
   ],
   "source": [
    "PlayList['RosterPosition'].value_counts()"
   ]
  },
  {
   "cell_type": "code",
   "execution_count": 9,
   "metadata": {},
   "outputs": [
    {
     "data": {
      "text/plain": [
       "WR              43457\n",
       "OLB             33524\n",
       "CB              29584\n",
       "FS              21373\n",
       "G               17467\n",
       "T               16979\n",
       "SS              15660\n",
       "DT              14119\n",
       "DE              13800\n",
       "C               12963\n",
       "RB              11359\n",
       "ILB              8359\n",
       "TE               7749\n",
       "QB               6969\n",
       "MLB              5595\n",
       "LB               2727\n",
       "NT               2587\n",
       "DB               1280\n",
       "K                 538\n",
       "S                 471\n",
       "HB                230\n",
       "P                 170\n",
       "Missing Data       45\n",
       "Name: Position, dtype: int64"
      ]
     },
     "execution_count": 9,
     "metadata": {},
     "output_type": "execute_result"
    }
   ],
   "source": [
    "PlayList['Position'].value_counts()"
   ]
  },
  {
   "cell_type": "code",
   "execution_count": 10,
   "metadata": {},
   "outputs": [
    {
     "data": {
      "text/plain": [
       "DB              68295\n",
       "LB              50954\n",
       "OL              47409\n",
       "WR              43387\n",
       "DL              29830\n",
       "RB              11659\n",
       "TE               7749\n",
       "QB               6969\n",
       "SPEC              708\n",
       "Missing Data       45\n",
       "Name: PositionGroup, dtype: int64"
      ]
     },
     "execution_count": 10,
     "metadata": {},
     "output_type": "execute_result"
    }
   ],
   "source": [
    "PlayList['PositionGroup'].value_counts()"
   ]
  },
  {
   "cell_type": "code",
   "execution_count": 11,
   "metadata": {},
   "outputs": [
    {
     "data": {
      "text/plain": [
       "Outdoor                   145032\n",
       "Outdoors                   32956\n",
       "Indoors                    22805\n",
       "Dome                        9376\n",
       "Retractable Roof            8914\n",
       "Indoor                      6892\n",
       "Open                        4124\n",
       "Domed, closed               3076\n",
       "Retr. Roof - Closed         2235\n",
       "Retr. Roof-Closed           2015\n",
       "Domed, open                 1779\n",
       "Dome, closed                1059\n",
       "Closed Dome                 1011\n",
       "Domed                        985\n",
       "Oudoor                       914\n",
       "Domed, Open                  807\n",
       "Ourdoor                      778\n",
       "Outdoor Retr Roof-Open       601\n",
       "Outddors                     595\n",
       "Indoor, Roof Closed          547\n",
       "Retr. Roof-Open              486\n",
       "Retr. Roof - Open            486\n",
       "Indoor, Open Roof            479\n",
       "Bowl                         465\n",
       "Retr. Roof Closed            414\n",
       "Heinz Field                  389\n",
       "Outdor                       356\n",
       "Outside                      341\n",
       "Cloudy                       178\n",
       "Name: StadiumType, dtype: int64"
      ]
     },
     "execution_count": 11,
     "metadata": {},
     "output_type": "execute_result"
    }
   ],
   "source": [
    "PlayList['StadiumType'].value_counts()"
   ]
  },
  {
   "cell_type": "code",
   "execution_count": 12,
   "metadata": {},
   "outputs": [
    {
     "data": {
      "text/plain": [
       "Natural      156902\n",
       "Synthetic    110103\n",
       "Name: FieldType, dtype: int64"
      ]
     },
     "execution_count": 12,
     "metadata": {},
     "output_type": "execute_result"
    }
   ],
   "source": [
    "PlayList['FieldType'].value_counts()"
   ]
  },
  {
   "cell_type": "code",
   "execution_count": 14,
   "metadata": {},
   "outputs": [
    {
     "data": {
      "text/plain": [
       "-999    24170\n",
       " 68     14127\n",
       " 72      6970\n",
       " 61      6744\n",
       " 71      6261\n",
       "        ...  \n",
       " 34       418\n",
       " 32       383\n",
       " 10       292\n",
       " 26       243\n",
       " 9        210\n",
       "Name: Temperature, Length: 79, dtype: int64"
      ]
     },
     "execution_count": 14,
     "metadata": {},
     "output_type": "execute_result"
    }
   ],
   "source": [
    "PlayList['Temperature'].value_counts()"
   ]
  },
  {
   "cell_type": "code",
   "execution_count": 16,
   "metadata": {},
   "outputs": [
    {
     "data": {
      "text/plain": [
       "Cloudy                                                                              60705\n",
       "Sunny                                                                               51728\n",
       "Partly Cloudy                                                                       28463\n",
       "Clear                                                                               25923\n",
       "Mostly Cloudy                                                                       11176\n",
       "                                                                                    ...  \n",
       "30% Chance of Rain                                                                    354\n",
       "Partly Clouidy                                                                        302\n",
       "Coudy                                                                                 278\n",
       "Cloudy with periods of rain, thunder possible. Winds shifting to WNW, 10-20 mph.      246\n",
       "Party Cloudy                                                                          230\n",
       "Name: Weather, Length: 63, dtype: int64"
      ]
     },
     "execution_count": 16,
     "metadata": {},
     "output_type": "execute_result"
    }
   ],
   "source": [
    "PlayList['Weather'].value_counts()"
   ]
  },
  {
   "cell_type": "code",
   "execution_count": 18,
   "metadata": {},
   "outputs": [
    {
     "data": {
      "text/plain": [
       "Pass                    138079\n",
       "Rush                     92606\n",
       "Extra Point               5906\n",
       "Kickoff                   5754\n",
       "Punt                      5746\n",
       "Field Goal                4915\n",
       "Kickoff Not Returned      4625\n",
       "Punt Not Returned         3486\n",
       "Kickoff Returned          2773\n",
       "Punt Returned             2469\n",
       "0                          279\n",
       "Name: PlayType, dtype: int64"
      ]
     },
     "execution_count": 18,
     "metadata": {},
     "output_type": "execute_result"
    }
   ],
   "source": [
    "PlayList['PlayType'].value_counts()"
   ]
  },
  {
   "cell_type": "code",
   "execution_count": null,
   "metadata": {},
   "outputs": [],
   "source": []
  },
  {
   "cell_type": "code",
   "execution_count": null,
   "metadata": {},
   "outputs": [],
   "source": []
  },
  {
   "cell_type": "code",
   "execution_count": null,
   "metadata": {},
   "outputs": [],
   "source": []
  },
  {
   "cell_type": "code",
   "execution_count": null,
   "metadata": {},
   "outputs": [],
   "source": []
  }
 ],
 "metadata": {
  "kernelspec": {
   "display_name": "Python 3",
   "language": "python",
   "name": "python3"
  },
  "language_info": {
   "codemirror_mode": {
    "name": "ipython",
    "version": 3
   },
   "file_extension": ".py",
   "mimetype": "text/x-python",
   "name": "python",
   "nbconvert_exporter": "python",
   "pygments_lexer": "ipython3",
   "version": "3.7.3"
  }
 },
 "nbformat": 4,
 "nbformat_minor": 2
}
